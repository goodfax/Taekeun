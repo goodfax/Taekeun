{
 "cells": [
  {
   "cell_type": "markdown",
   "metadata": {},
   "source": [
    "#### Iterator 사용\n",
    "    - input으로 불러오기 위한 텍스트 파일의 크기가 너무 커서 custom iterator 사용\n",
    "    - gensim에서 제공하는 LineSentence로 대체되는 것으로 보임.(직접 확인해보지는 않았음)\n",
    "    https://radimrehurek.com/gensim/models/word2vec.html => LineSentence 검색\n",
    "\n",
    "#### tqdm\n",
    "https://github.com/tqdm/tqdm\n",
    "    - A Fast, Extensible Progress Bar for Python and CLI\n",
    "\n",
    "<br>\n",
    "\n"
   ]
  },
  {
   "cell_type": "code",
   "execution_count": null,
   "metadata": {
    "collapsed": true
   },
   "outputs": [],
   "source": [
    "# word2vec에 필요한 utils\n",
    "\n",
    "from tqdm import tqdm\n",
    "\n",
    "\n",
    "class SentenceIterator:\n",
    "    def __init__(self, filepath):\n",
    "        self.filepath = filepath\n",
    "\n",
    "    # int(4763709)는 prepro_en_wiki.txt의 라인 수\n",
    "    # iterator에 크기 계산을 위한 소스를 넣으면 RAM의 용량을 초과하여\n",
    "    # 미리 계산해 직접 값을 입력함. => 개선 필요.\n",
    "    def __iter__(self):\n",
    "        for line in tqdm(open(self.filepath, 'r', encoding='utf-8'), total=int(4763709)):\n",
    "            yield line.split()\n"
   ]
  }
 ],
 "metadata": {
  "kernelspec": {
   "display_name": "Python 3",
   "language": "python",
   "name": "python3"
  },
  "language_info": {
   "codemirror_mode": {
    "name": "ipython",
    "version": 3
   },
   "file_extension": ".py",
   "mimetype": "text/x-python",
   "name": "python",
   "nbconvert_exporter": "python",
   "pygments_lexer": "ipython3",
   "version": "3.6.10"
  }
 },
 "nbformat": 4,
 "nbformat_minor": 1
}
