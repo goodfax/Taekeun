{
 "cells": [
  {
   "cell_type": "markdown",
   "metadata": {},
   "source": [
    "# Word2Vec<br><br>\n",
    "\n",
    "#### using gensim\n",
    "    https://radimrehurek.com/gensim/models/word2vec.html\n",
    "\n",
    "<br>"
   ]
  },
  {
   "cell_type": "code",
   "execution_count": 3,
   "metadata": {},
   "outputs": [
    {
     "name": "stdout",
     "output_type": "stream",
     "text": [
      "Finish\n"
     ]
    }
   ],
   "source": [
    "# model generation and save\n",
    "\n",
    "ko_fname = './data/prepro_ko_wiki_sample.txt'\n",
    "model_fname = './model/taekeun/ko_sample.bin'\n",
    "\n",
    "from gensim.models import Word2Vec\n",
    "corpus = [sent.strip().split(\" \") for sent in open(ko_fname, 'r', encoding='utf-8').readlines()]\n",
    "model = Word2Vec(corpus, size=100, workers=4, sg=1)\n",
    "model.save(model_fname)\n",
    "print('Finish')"
   ]
  },
  {
   "cell_type": "code",
   "execution_count": 6,
   "metadata": {},
   "outputs": [
    {
     "name": "stdout",
     "output_type": "stream",
     "text": [
      "[('면서', 0.9993383288383484), ('문자', 0.9992690086364746), ('까지', 0.9992473125457764), ('3', 0.9992398023605347), ('큰', 0.9991976618766785), ('관타나모', 0.9991589188575745), ('위치', 0.9991557002067566), ('선거', 0.9991419911384583), ('해', 0.9991291165351868), ('면', 0.9991239309310913)]\n"
     ]
    },
    {
     "name": "stderr",
     "output_type": "stream",
     "text": [
      "D:\\Anaconda3\\envs\\taekeun\\lib\\site-packages\\ipykernel_launcher.py:5: DeprecationWarning: Call to deprecated `similar_by_word` (Method will be removed in 4.0.0, use self.wv.similar_by_word() instead).\n",
      "  \"\"\"\n"
     ]
    }
   ],
   "source": [
    "# model load\n",
    "import gensim\n",
    "\n",
    "model = gensim.models.Word2Vec.load('./model/taekeun/ko_sample.bin')\n",
    "print(model.similar_by_word('지미'))\n"
   ]
  },
  {
   "cell_type": "code",
   "execution_count": null,
   "metadata": {},
   "outputs": [],
   "source": []
  }
 ],
 "metadata": {
  "kernelspec": {
   "display_name": "Python 3",
   "language": "python",
   "name": "python3"
  },
  "language_info": {
   "codemirror_mode": {
    "name": "ipython",
    "version": 3
   },
   "file_extension": ".py",
   "mimetype": "text/x-python",
   "name": "python",
   "nbconvert_exporter": "python",
   "pygments_lexer": "ipython3",
   "version": "3.6.10"
  }
 },
 "nbformat": 4,
 "nbformat_minor": 1
}
