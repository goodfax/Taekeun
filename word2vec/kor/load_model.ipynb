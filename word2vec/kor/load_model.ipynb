{
 "cells": [
  {
   "cell_type": "code",
   "execution_count": 1,
   "metadata": {},
   "outputs": [
    {
     "name": "stdout",
     "output_type": "stream",
     "text": [
      "[('하드웨어', 0.7727354764938354), ('소프트웨어', 0.7308895587921143), ('마이크로프로세서', 0.7205492258071899), ('개인용', 0.7154535055160522), ('노트북', 0.7130324244499207), ('계산기', 0.7044994831085205), ('하드디스크', 0.6943572759628296), ('태블릿', 0.6915029287338257), ('그래픽스', 0.6882646083831787), ('프린터', 0.6876466274261475)]\n",
      "0.8578547\n"
     ]
    },
    {
     "name": "stderr",
     "output_type": "stream",
     "text": [
      "D:\\Anaconda3\\envs\\taekeun\\lib\\site-packages\\ipykernel_launcher.py:5: DeprecationWarning: Call to deprecated `similar_by_word` (Method will be removed in 4.0.0, use self.wv.similar_by_word() instead).\n",
      "  \"\"\"\n",
      "D:\\Anaconda3\\envs\\taekeun\\lib\\site-packages\\ipykernel_launcher.py:9: DeprecationWarning: Call to deprecated `similarity` (Method will be removed in 4.0.0, use self.wv.similarity() instead).\n",
      "  if __name__ == '__main__':\n"
     ]
    }
   ],
   "source": [
    "import gensim\n",
    "\n",
    "model = gensim.models.Word2Vec.load('./model/kyubyong/ko.bin')\n",
    "# 해당단어와 유사한 단어출력\n",
    "sbw = model.similar_by_word('컴퓨터')\n",
    "print(sbw)\n",
    "\n",
    "# 두 단어의 유사도 출력\n",
    "sw = model.similarity('아빠', '엄마')\n",
    "print(sw)\n"
   ]
  },
  {
   "cell_type": "code",
   "execution_count": 2,
   "metadata": {
    "pycharm": {
     "name": "#%%\n"
    }
   },
   "outputs": [
    {
     "name": "stderr",
     "output_type": "stream",
     "text": [
      "D:\\Anaconda3\\envs\\taekeun\\lib\\site-packages\\ipykernel_launcher.py:3: DeprecationWarning: Call to deprecated `similar_by_word` (Method will be removed in 4.0.0, use self.wv.similar_by_word() instead).\n",
      "  This is separate from the ipykernel package so we can avoid doing imports until\n"
     ]
    },
    {
     "name": "stdout",
     "output_type": "stream",
     "text": [
      "[('하드웨어', 0.8297494649887085), ('응용', 0.8057907819747925), ('컴퓨팅', 0.8019243478775024), ('PLATO', 0.8006041049957275), ('소프트웨어', 0.7943552732467651), ('CAPTCHA', 0.7903479337692261), ('임베디드', 0.790095329284668), ('계산기', 0.7804068326950073), ('PDA', 0.779224693775177), ('주변기기', 0.7763397693634033)]\n",
      "0.9453995\n"
     ]
    },
    {
     "name": "stderr",
     "output_type": "stream",
     "text": [
      "D:\\Anaconda3\\envs\\taekeun\\lib\\site-packages\\ipykernel_launcher.py:7: DeprecationWarning: Call to deprecated `similarity` (Method will be removed in 4.0.0, use self.wv.similarity() instead).\n",
      "  import sys\n"
     ]
    }
   ],
   "source": [
    "model = gensim.models.Word2Vec.load('./model/taekeun/ko.bin')\n",
    "# 해당단어와 유사한 단어출력\n",
    "sbw = model.similar_by_word('컴퓨터')\n",
    "print(sbw)\n",
    "\n",
    "# 두 단어의 유사도 출력\n",
    "sw = model.similarity('아빠', '엄마')\n",
    "print(sw)\n"
   ]
  },
  {
   "cell_type": "code",
   "execution_count": null,
   "metadata": {},
   "outputs": [],
   "source": []
  }
 ],
 "metadata": {
  "kernelspec": {
   "display_name": "Python 3",
   "language": "python",
   "name": "python3"
  },
  "language_info": {
   "codemirror_mode": {
    "name": "ipython",
    "version": 3
   },
   "file_extension": ".py",
   "mimetype": "text/x-python",
   "name": "python",
   "nbconvert_exporter": "python",
   "pygments_lexer": "ipython3",
   "version": "3.6.10"
  },
  "pycharm": {
   "stem_cell": {
    "cell_type": "raw",
    "metadata": {
     "collapsed": false
    },
    "source": []
   }
  }
 },
 "nbformat": 4,
 "nbformat_minor": 1
}
