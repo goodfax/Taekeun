{
 "cells": [
  {
   "cell_type": "markdown",
   "metadata": {},
   "source": [
    "# Pre-trained word vectors of 30+ languages\n",
    "    https://github.com/Kyubyong/wordvectors\n",
    "<br>\n",
    "\n",
    "#### Korean\n",
    "    위키피디아 덤프 사용\n",
    "\n",
    "Vector Size | Corpus Size | Vocabular Size\n",
    " :------------:|:---------------:|:-----------------:\n",
    "200|339M|30185"
   ]
  },
  {
   "cell_type": "code",
   "execution_count": 2,
   "metadata": {},
   "outputs": [
    {
     "name": "stdout",
     "output_type": "stream",
     "text": [
      "[('하드웨어', 0.7727354764938354), ('소프트웨어', 0.7308895587921143), ('마이크로프로세서', 0.7205492258071899), ('개인용', 0.7154535055160522), ('노트북', 0.7130324244499207), ('계산기', 0.7044994831085205), ('하드디스크', 0.6943572759628296), ('태블릿', 0.6915029287338257), ('그래픽스', 0.6882646083831787), ('프린터', 0.6876466274261475)]\n",
      "0.8578547\n",
      "(30185, 200)\n"
     ]
    }
   ],
   "source": [
    "import gensim\n",
    "\n",
    "model = gensim.models.Word2Vec.load('./model/kyubyong/ko.bin')\n",
    "# 해당단어와 유사한 단어출력\n",
    "sbw = model.wv.similar_by_word('컴퓨터')\n",
    "print(sbw)\n",
    "\n",
    "# 두 단어의 유사도 출력\n",
    "sw = model.wv.similarity('아빠', '엄마')\n",
    "print(sw)\n",
    "\n",
    "# vacabulary size\n",
    "vocab_size = model.wv.vectors.shape\n",
    "print(vocab_size)\n"
   ]
  },
  {
   "cell_type": "markdown",
   "metadata": {},
   "source": [
    "#### Korean\n",
    "    위키피디아 덤프 사용(20200101)\n",
    "\n",
    "Vector Size | Corpus Size | Vocabular Size\n",
    " :------------:|:---------------:|:-----------------:\n",
    "100|1103M|372711"
   ]
  },
  {
   "cell_type": "code",
   "execution_count": 1,
   "metadata": {
    "pycharm": {
     "name": "#%%\n"
    }
   },
   "outputs": [
    {
     "name": "stdout",
     "output_type": "stream",
     "text": [
      "[('하드웨어', 0.8292301297187805), ('응용', 0.8064000010490417), ('컴퓨팅', 0.8045072555541992), ('소프트웨어', 0.7989376187324524), ('주변기기', 0.7906362414360046), ('GPGPU', 0.7818787097930908), ('임베디드', 0.7807695865631104), ('PLATO', 0.7786304354667664), ('미니컴퓨터', 0.7753349542617798), ('탁상출판', 0.773676872253418)]\n",
      "0.9505894\n",
      "(372710, 100)\n"
     ]
    }
   ],
   "source": [
    "import gensim\n",
    "\n",
    "model = gensim.models.Word2Vec.load('./model/taekeun/ko.bin')\n",
    "# 해당단어와 유사한 단어출력\n",
    "sbw = model.wv.similar_by_word('컴퓨터')\n",
    "print(sbw)\n",
    "\n",
    "# 두 단어의 유사도 출력\n",
    "sw = model.wv.similarity('아빠', '엄마')\n",
    "print(sw)\n",
    "\n",
    "# vacabulary size\n",
    "vocab_size = model.wv.vectors.shape\n",
    "print(vocab_size)\n"
   ]
  },
  {
   "cell_type": "code",
   "execution_count": null,
   "metadata": {},
   "outputs": [],
   "source": []
  }
 ],
 "metadata": {
  "kernelspec": {
   "display_name": "Python 3",
   "language": "python",
   "name": "python3"
  },
  "language_info": {
   "codemirror_mode": {
    "name": "ipython",
    "version": 3
   },
   "file_extension": ".py",
   "mimetype": "text/x-python",
   "name": "python",
   "nbconvert_exporter": "python",
   "pygments_lexer": "ipython3",
   "version": "3.6.10"
  },
  "pycharm": {
   "stem_cell": {
    "cell_type": "raw",
    "metadata": {
     "collapsed": false
    },
    "source": []
   }
  }
 },
 "nbformat": 4,
 "nbformat_minor": 1
}
