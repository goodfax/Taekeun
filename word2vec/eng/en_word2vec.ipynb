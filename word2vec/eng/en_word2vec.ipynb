{
 "cells": [
  {
   "cell_type": "markdown",
   "metadata": {},
   "source": [
    "# Word2Vec<br><br>\n",
    "\n",
    "#### gensim word2vec tutorial\n",
    "    https://kavita-ganesan.com/gensim-word2vec-tutorial-starter-code/#.XiFUMsgzaql\n",
    "    https://programmers.co.kr/learn/courses/21/lessons/1698\n",
    "<br>"
   ]
  },
  {
   "cell_type": "code",
   "execution_count": 1,
   "metadata": {
    "pycharm": {
     "name": "#%%\n"
    }
   },
   "outputs": [
    {
     "name": "stdout",
     "output_type": "stream",
     "text": [
      "Finish\n"
     ]
    }
   ],
   "source": [
    "# Example\n",
    "# model generation and save\n",
    "\n",
    "import logging\n",
    "logging.basicConfig(\n",
    "    format='%(asctime)s : %(levelname)s : %(message)s',\n",
    "    level=logging.INFO)\n",
    "\n",
    "from gensim.models import Word2Vec\n",
    "from gensim.models.word2vec import LineSentence\n",
    "import multiprocessing as mp\n",
    "\n",
    "en_fname = './data/prepro_en_wiki_sample.txt'\n",
    "model_fname = './model/taekeun/en_test_02.bin'\n",
    "\n",
    "model = Word2Vec(LineSentence(en_fname), size=300, workers=mp.cpu_count(), sg=1)\n",
    "\n",
    "model.save(model_fname)\n"
   ]
  },
  {
   "cell_type": "code",
   "execution_count": 3,
   "metadata": {
    "pycharm": {
     "name": "#%%\n"
    }
   },
   "outputs": [
    {
     "name": "stdout",
     "output_type": "stream",
     "text": [
      "[('anarchist', 0.999269962310791), ('individualist', 0.998560905456543), ('anarcho', 0.99808669090271), ('movement', 0.9979897737503052), ('anti', 0.9977797269821167), ('within', 0.9977498054504395), ('anarchists', 0.9977432489395142), ('free', 0.997718095779419), ('thought', 0.9976266622543335), ('theory', 0.9974863529205322)]\n"
     ]
    },
    {
     "name": "stderr",
     "output_type": "stream",
     "text": [
      "D:\\Anaconda3\\envs\\taekeun\\lib\\site-packages\\ipykernel_launcher.py:5: DeprecationWarning: Call to deprecated `similar_by_word` (Method will be removed in 4.0.0, use self.wv.similar_by_word() instead).\n",
      "  \"\"\"\n"
     ]
    }
   ],
   "source": [
    "# model load\n",
    "import gensim\n",
    "\n",
    "model = gensim.models.Word2Vec.load('./model/taekeun/en_test_02.bin')\n",
    "print(model.similar_by_word('anarchism'))\n"
   ]
  },
  {
   "cell_type": "code",
   "execution_count": null,
   "metadata": {},
   "outputs": [],
   "source": [
    "# model generation and save\n",
    "\n",
    "import logging\n",
    "logging.basicConfig(\n",
    "    format='%(asctime)s : %(levelname)s : %(message)s',\n",
    "    level=logging.INFO)\n",
    "\n",
    "from gensim.models import Word2Vec\n",
    "from gensim.models.word2vec import LineSentence\n",
    "import multiprocessing as mp\n",
    "\n",
    "en_fname = './data/prepro_en_wiki.txt'\n",
    "model_fname = './model/taekeun/en.bin'\n",
    "\n",
    "model = Word2Vec(LineSentence(en_fname), size=300, workers=mp.cpu_count(), sg=1)\n",
    "\n",
    "model.save(model_fname)\n"
   ]
  },
  {
   "cell_type": "markdown",
   "metadata": {
    "collapsed": true
   },
   "source": [
    "#### word2vec train result\n",
    "    - 총 4771692개의 article을 학습\n",
    "    - input corpus에 들어갈 데이터를 배열의 형태로 직접 만들지 않고 gensim word2vec의 LinSentence 사용.(https://radimrehurek.com/gensim/models/word2vec.html, LineSentence 검색)\n",
    "    - mp.cpu_count(): 내 컴퓨터의 cpu 코어수\n",
    "    - cpu 코어 수를 최대로 사용하는 것과 일부만 사용하는 것이 학습속도에 별차이가 없음.\n",
    "<br>\n",
    "\n",
    "##### build dictionary for vocabulary\n",
    "![title](../_etc/en_build_dic.PNG)\n",
    "<br>\n",
    "\n",
    "##### train start\n",
    "![title](../_etc/en_train_start.PNG)\n",
    "<br>\n",
    "\n",
    "##### 1 epoch end\n",
    "![title](../_etc/en_train_1epoch.PNG)\n",
    "<br>\n",
    "\n",
    "##### train end\n",
    "![title](../_etc/en_train_end.PNG)\n",
    "<br>\n"
   ]
  },
  {
   "cell_type": "code",
   "execution_count": null,
   "metadata": {},
   "outputs": [],
   "source": []
  }
 ],
 "metadata": {
  "kernelspec": {
   "display_name": "Python 3",
   "language": "python",
   "name": "python3"
  },
  "language_info": {
   "codemirror_mode": {
    "name": "ipython",
    "version": 3
   },
   "file_extension": ".py",
   "mimetype": "text/x-python",
   "name": "python",
   "nbconvert_exporter": "python",
   "pygments_lexer": "ipython3",
   "version": "3.6.10"
  },
  "pycharm": {
   "stem_cell": {
    "cell_type": "raw",
    "metadata": {
     "collapsed": false
    },
    "source": []
   }
  }
 },
 "nbformat": 4,
 "nbformat_minor": 1
}
