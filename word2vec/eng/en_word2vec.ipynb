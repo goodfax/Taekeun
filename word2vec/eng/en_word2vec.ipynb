{
 "cells": [
  {
   "cell_type": "markdown",
   "metadata": {},
   "source": [
    "# Word2Vec<br><br>\n",
    "\n",
    "#### using gensim\n",
    "    https://radimrehurek.com/gensim/models/word2vec.html\n",
    "<br>\n",
    "\n",
    "#### gensim word2vec tutorial\n",
    "    https://kavita-ganesan.com/gensim-word2vec-tutorial-starter-code/#.XiFUMsgzaql\n",
    "<br>"
   ]
  },
  {
   "cell_type": "code",
   "execution_count": 1,
   "metadata": {
    "pycharm": {
     "name": "#%%\n"
    }
   },
   "outputs": [
    {
     "name": "stdout",
     "output_type": "stream",
     "text": [
      "Finish\n"
     ]
    }
   ],
   "source": [
    "# Example\n",
    "# model generation and save\n",
    "\n",
    "from gensim.models import Word2Vec\n",
    "\n",
    "en_fname = './data/prepro_en_wiki_sample.txt'\n",
    "model_fname = './model/taekeun/en_sample.bin'\n",
    "\n",
    "corpus = [sent.strip().split(\" \") for sent in open(en_fname, 'r', encoding='utf-8').readlines()]\n",
    "model = Word2Vec(corpus, size=300, workers=4, sg=1)\n",
    "model.save(model_fname)\n",
    "print('Finish')\n"
   ]
  },
  {
   "cell_type": "code",
   "execution_count": 3,
   "metadata": {
    "pycharm": {
     "name": "#%%\n"
    }
   },
   "outputs": [
    {
     "name": "stdout",
     "output_type": "stream",
     "text": [
      "[('anarchist', 0.999269962310791), ('individualist', 0.998560905456543), ('anarcho', 0.99808669090271), ('movement', 0.9979897737503052), ('anti', 0.9977797269821167), ('within', 0.9977498054504395), ('anarchists', 0.9977432489395142), ('free', 0.997718095779419), ('thought', 0.9976266622543335), ('theory', 0.9974863529205322)]\n"
     ]
    },
    {
     "name": "stderr",
     "output_type": "stream",
     "text": [
      "D:\\Anaconda3\\envs\\taekeun\\lib\\site-packages\\ipykernel_launcher.py:5: DeprecationWarning: Call to deprecated `similar_by_word` (Method will be removed in 4.0.0, use self.wv.similar_by_word() instead).\n",
      "  \"\"\"\n"
     ]
    }
   ],
   "source": [
    "# model load\n",
    "import gensim\n",
    "\n",
    "model = gensim.models.Word2Vec.load('./model/taekeun/en_sample.bin')\n",
    "print(model.similar_by_word('anarchism'))\n"
   ]
  },
  {
   "cell_type": "code",
   "execution_count": null,
   "metadata": {},
   "outputs": [],
   "source": [
    "# model generation and save\n",
    "\n",
    "from word2vec.word2vec_utils import SentenceIterator\n",
    "from gensim.models import Word2Vec\n",
    "\n",
    "en_fname = './data/prepro_en_wiki.txt'\n",
    "model_fname = './model/taekeun/en.bin'\n",
    "\n",
    "corpus = SentenceIterator(en_fname)\n",
    "\n",
    "print('Start')\n",
    "\n",
    "# default epoch: 5\n",
    "model = Word2Vec(corpus, size=300, workers=4, sg=1)\n",
    "model.save(model_fname)\n",
    "\n",
    "print('Finish')\n"
   ]
  },
  {
   "cell_type": "markdown",
   "metadata": {
    "collapsed": true
   },
   "source": [
    "#### word2vec train result\n",
    "    - 총 4763709개의 article을 학습\n",
    "    - worker를 4개만 써서인지 너무 오랜 시간이 걸림.\n",
    "    - 앞으로는 multiprocessing.cpu_cout()를 이용해서 worker 수를 정해주자.\n",
    "![title](../_etc/tqdm_w2v_train.png)"
   ]
  },
  {
   "cell_type": "code",
   "execution_count": null,
   "metadata": {},
   "outputs": [],
   "source": []
  }
 ],
 "metadata": {
  "kernelspec": {
   "display_name": "Python 3",
   "language": "python",
   "name": "python3"
  },
  "language_info": {
   "codemirror_mode": {
    "name": "ipython",
    "version": 3
   },
   "file_extension": ".py",
   "mimetype": "text/x-python",
   "name": "python",
   "nbconvert_exporter": "python",
   "pygments_lexer": "ipython3",
   "version": "3.6.10"
  },
  "pycharm": {
   "stem_cell": {
    "cell_type": "raw",
    "metadata": {
     "collapsed": false
    },
    "source": []
   }
  }
 },
 "nbformat": 4,
 "nbformat_minor": 1
}
