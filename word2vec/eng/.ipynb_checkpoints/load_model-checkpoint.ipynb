{
 "cells": [
  {
   "cell_type": "markdown",
   "metadata": {},
   "source": [
    "# Google's Pre-trained word and phrase vectors\n",
    "    https://code.google.com/archive/p/word2vec/\n",
    "<br>\n",
    "\n",
    "#### English\n",
    "    위키피디아 덤프 사용\n",
    "\n",
    "Vector Size | Corpus Size | Vocabular Size\n",
    " :------------:|:---------------:|:-----------------:\n",
    "300|300만개|3000000"
   ]
  },
  {
   "cell_type": "code",
   "execution_count": 3,
   "metadata": {
    "pycharm": {
     "name": "#%%\n"
    }
   },
   "outputs": [
    {
     "name": "stdout",
     "output_type": "stream",
     "text": [
      "[('computers', 0.7979379892349243), ('laptop', 0.6640493273735046), ('laptop_computer', 0.6548868417739868), ('Computer', 0.6473334431648254), ('com_puter', 0.6082079410552979), ('technician_Leonard_Luchko', 0.5662748217582703), ('mainframes_minicomputers', 0.5617721080780029), ('laptop_computers', 0.5585449934005737), ('PC', 0.5539618134498596), ('maker_Dell_DELL.O', 0.5519254207611084)]\n",
      "0.6510957\n",
      "(3000000, 300)\n"
     ]
    }
   ],
   "source": [
    "# binary google word2vec 모델 불러오기\n",
    "import gensim\n",
    "\n",
    "model = gensim.models.KeyedVectors.load_word2vec_format('./model/google/GoogleNews-vectors-negative300.bin', binary=True) \n",
    "\n",
    "# 해당단어와 유사한 단어출력\n",
    "sbw = model.similar_by_word('computer')\n",
    "print(sbw)\n",
    "\n",
    "# 두 단어의 유사도 출력\n",
    "sw = model.similarity('king', 'queen')\n",
    "print(sw)\n",
    "\n",
    "# vocabulary size\n",
    "vocab_size = model.vectors.shape\n",
    "print(vocab_size)"
   ]
  },
  {
   "cell_type": "markdown",
   "metadata": {
    "pycharm": {
     "name": "#%%\n"
    }
   },
   "source": [
    "#### 내가 돌려본 English word2vec\n",
    "    위키피디아 덤프 사용(20200101)\n",
    "\n",
    "Vector Size | Corpus Size | Vocabular Size\n",
    " :------------:|:---------------:|:-----------------:\n",
    "300|15861M|2390139"
   ]
  },
  {
   "cell_type": "code",
   "execution_count": 10,
   "metadata": {},
   "outputs": [
    {
     "name": "stdout",
     "output_type": "stream",
     "text": [
      "[('computers', 0.7477174997329712), ('computing', 0.700310468673706), ('software', 0.6653162240982056), ('probeware', 0.6494148969650269), ('bscpe', 0.6456983089447021), ('bscoe', 0.6318925619125366), ('microcomputer', 0.631336510181427), ('musicmonitor', 0.6312631964683533), ('vlsi', 0.6251018643379211), ('ccmit', 0.6248851418495178)]\n",
      "0.6880808\n",
      "(2390139, 300)\n"
     ]
    }
   ],
   "source": [
    "import gensim\n",
    "\n",
    "model = gensim.models.Word2Vec.load('./model/taekeun/en.bin')\n",
    "\n",
    "# 해당단어와 유사한 단어출력\n",
    "sbw = model.wv.similar_by_word('computer')\n",
    "print(sbw)\n",
    "\n",
    "# 두 단어의 유사도 출력\n",
    "sw = model.wv.similarity('king', 'queen')\n",
    "print(sw)\n",
    "\n",
    "# vacabulary size\n",
    "vocab_size = model.wv.vectors.shape\n",
    "print(vocab_size)"
   ]
  },
  {
   "cell_type": "code",
   "execution_count": null,
   "metadata": {},
   "outputs": [],
   "source": []
  }
 ],
 "metadata": {
  "kernelspec": {
   "display_name": "Python 3",
   "language": "python",
   "name": "python3"
  },
  "language_info": {
   "codemirror_mode": {
    "name": "ipython",
    "version": 3
   },
   "file_extension": ".py",
   "mimetype": "text/x-python",
   "name": "python",
   "nbconvert_exporter": "python",
   "pygments_lexer": "ipython3",
   "version": "3.6.10"
  },
  "pycharm": {
   "stem_cell": {
    "cell_type": "raw",
    "metadata": {
     "collapsed": false
    },
    "source": []
   }
  }
 },
 "nbformat": 4,
 "nbformat_minor": 1
}
